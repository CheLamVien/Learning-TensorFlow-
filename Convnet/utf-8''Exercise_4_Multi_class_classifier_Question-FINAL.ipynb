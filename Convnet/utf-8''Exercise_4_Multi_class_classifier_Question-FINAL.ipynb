{
 "cells": [
  {
   "cell_type": "code",
   "execution_count": 2,
   "metadata": {
    "colab": {},
    "colab_type": "code",
    "id": "wYtuKeK0dImp"
   },
   "outputs": [],
   "source": [
    "# ATTENTION: Please do not alter any of the provided code in the exercise. Only add your own code where indicated\n",
    "# ATTENTION: Please do not add or remove any cells in the exercise. The grader will check specific cells based on the cell position.\n",
    "# ATTENTION: Please use the provided epoch values when training.\n",
    "\n",
    "import csv\n",
    "import numpy as np\n",
    "import tensorflow as tf\n",
    "from tensorflow.keras.preprocessing.image import ImageDataGenerator\n",
    "from os import getcwd"
   ]
  },
  {
   "cell_type": "code",
   "execution_count": 14,
   "metadata": {
    "colab": {},
    "colab_type": "code",
    "id": "4kxw-_rmcnVu"
   },
   "outputs": [
    {
     "name": "stdout",
     "output_type": "stream",
     "text": [
      "(27455, 28, 28)\n",
      "(27455,)\n",
      "(7172, 28, 28)\n",
      "(7172,)\n"
     ]
    }
   ],
   "source": [
    "def get_data(filename):\n",
    "  # You will need to write code that will read the file passed\n",
    "  # into this function. The first line contains the column headers\n",
    "  # so you should ignore it\n",
    "  # Each successive line contians 785 comma separated values between 0 and 255\n",
    "  # The first value is the label\n",
    "  # The rest are the pixel values for that picture\n",
    "  # The function will return 2 np.array types. One with all the labels\n",
    "  # One with all the images\n",
    "  #\n",
    "  # Tips: \n",
    "  # If you read a full line (as 'row') then row[0] has the label\n",
    "  # and row[1:785] has the 784 pixel values\n",
    "  # Take a look at np.array_split to turn the 784 pixels into 28x28\n",
    "  # You are reading in strings, but need the values to be floats\n",
    "  # Check out np.array().astype for a conversion\n",
    "    with open(filename) as training_file:\n",
    "      # Your code starts here\n",
    "      csv_reader = csv.reader(training_file, delimiter=',')\n",
    "      next(csv_reader)\n",
    "      temp_labels= []\n",
    "      temp_images = []\n",
    "\n",
    "      for row in csv_reader:\n",
    "          temp_labels.append(row[0])\n",
    "          image_data = row[1:785]\n",
    "          image_array = np.array_split(image_data, 28) # Make 28 x 28\n",
    "          temp_images.append(image_array)\n",
    "        \n",
    "      images = np.array(temp_images).astype('float')\n",
    "      labels = np.array(temp_labels).astype('float')\n",
    "      # Your code ends here\n",
    "    return images, labels\n",
    "\n",
    "path_sign_mnist_train = f\"{getcwd()}/../tmp2/sign_mnist_train.csv\"\n",
    "path_sign_mnist_test = f\"{getcwd()}/../tmp2/sign_mnist_test.csv\"\n",
    "training_images, training_labels = get_data(path_sign_mnist_train)\n",
    "testing_images, testing_labels = get_data(path_sign_mnist_test)\n",
    "\n",
    "# Keep these\n",
    "print(training_images.shape)\n",
    "print(training_labels.shape)\n",
    "print(testing_images.shape)\n",
    "print(testing_labels.shape)\n",
    "\n",
    "# Their output should be:\n",
    "# (27455, 28, 28)\n",
    "# (27455,)\n",
    "# (7172, 28, 28)\n",
    "# (7172,)"
   ]
  },
  {
   "cell_type": "code",
   "execution_count": 15,
   "metadata": {
    "colab": {},
    "colab_type": "code",
    "id": "awoqRpyZdQkD"
   },
   "outputs": [
    {
     "name": "stdout",
     "output_type": "stream",
     "text": [
      "(27455, 28, 28, 1)\n",
      "(7172, 28, 28, 1)\n"
     ]
    }
   ],
   "source": [
    "# In this section you will have to add another dimension to the data\n",
    "# So, for example, if your array is (10000, 28, 28)\n",
    "# You will need to make it (10000, 28, 28, 1)\n",
    "# Hint: np.expand_dims\n",
    "\n",
    "training_images = np.expand_dims(training_images, axis=-1)\n",
    "testing_images = np.expand_dims(testing_images, axis=-1)\n",
    "\n",
    "# Create an ImageDataGenerator and do Image Augmentation\n",
    "train_datagen = ImageDataGenerator(\n",
    "        rescale = 1./255,\n",
    "      rotation_range=40,\n",
    "      width_shift_range=0.2,\n",
    "      height_shift_range=0.2,\n",
    "      shear_range=0.2,\n",
    "      zoom_range=0.2,\n",
    "      horizontal_flip=True,\n",
    "      fill_mode='nearest'\n",
    "    )\n",
    "\n",
    "validation_datagen = ImageDataGenerator(\n",
    "    rescale = 1./255)\n",
    "    \n",
    "# Keep These\n",
    "print(training_images.shape)\n",
    "print(testing_images.shape)\n",
    "    \n",
    "# Their output should be:\n",
    "# (27455, 28, 28, 1)\n",
    "# (7172, 28, 28, 1)"
   ]
  },
  {
   "cell_type": "code",
   "execution_count": 19,
   "metadata": {
    "colab": {},
    "colab_type": "code",
    "id": "Rmb7S32cgRqS"
   },
   "outputs": [
    {
     "name": "stdout",
     "output_type": "stream",
     "text": [
      "Epoch 1/15\n",
      "858/857 [==============================] - 130s 152ms/step - loss: 2.8524 - accuracy: 0.1397 - val_loss: 1.9429 - val_accuracy: 0.4045\n",
      "Epoch 2/15\n",
      "858/857 [==============================] - 80s 94ms/step - loss: 2.1945 - accuracy: 0.3104 - val_loss: 1.3817 - val_accuracy: 0.5687\n",
      "Epoch 3/15\n",
      "858/857 [==============================] - 83s 96ms/step - loss: 1.7780 - accuracy: 0.4362 - val_loss: 1.1543 - val_accuracy: 0.6127\n",
      "Epoch 4/15\n",
      "858/857 [==============================] - 83s 96ms/step - loss: 1.5211 - accuracy: 0.5142 - val_loss: 0.8907 - val_accuracy: 0.7041\n",
      "Epoch 5/15\n",
      "858/857 [==============================] - 79s 92ms/step - loss: 1.2975 - accuracy: 0.5803 - val_loss: 0.8168 - val_accuracy: 0.7292\n",
      "Epoch 6/15\n",
      "858/857 [==============================] - 82s 96ms/step - loss: 1.1527 - accuracy: 0.6266 - val_loss: 0.7098 - val_accuracy: 0.7335\n",
      "Epoch 7/15\n",
      "858/857 [==============================] - 82s 95ms/step - loss: 1.0092 - accuracy: 0.6755 - val_loss: 0.5704 - val_accuracy: 0.7956\n",
      "Epoch 8/15\n",
      "858/857 [==============================] - 83s 97ms/step - loss: 0.9153 - accuracy: 0.7033 - val_loss: 0.4073 - val_accuracy: 0.8533\n",
      "Epoch 9/15\n",
      "858/857 [==============================] - 83s 97ms/step - loss: 0.8371 - accuracy: 0.7267 - val_loss: 0.3463 - val_accuracy: 0.8830\n",
      "Epoch 10/15\n",
      "858/857 [==============================] - 80s 93ms/step - loss: 0.7588 - accuracy: 0.7554 - val_loss: 0.5178 - val_accuracy: 0.8136\n",
      "Epoch 11/15\n",
      "858/857 [==============================] - 88s 102ms/step - loss: 0.7129 - accuracy: 0.7689 - val_loss: 0.3034 - val_accuracy: 0.8858\n",
      "Epoch 12/15\n",
      "858/857 [==============================] - 83s 97ms/step - loss: 0.6733 - accuracy: 0.7816 - val_loss: 0.3125 - val_accuracy: 0.8971\n",
      "Epoch 13/15\n",
      "858/857 [==============================] - 83s 97ms/step - loss: 0.6243 - accuracy: 0.7938 - val_loss: 0.3210 - val_accuracy: 0.8823\n",
      "Epoch 14/15\n",
      "858/857 [==============================] - 82s 96ms/step - loss: 0.5849 - accuracy: 0.8078 - val_loss: 0.2029 - val_accuracy: 0.9296\n",
      "Epoch 15/15\n",
      "858/857 [==============================] - 81s 94ms/step - loss: 0.5691 - accuracy: 0.8149 - val_loss: 0.2880 - val_accuracy: 0.8971\n"
     ]
    },
    {
     "data": {
      "text/plain": [
       "[235.76914951645722, 0.65170103]"
      ]
     },
     "execution_count": 19,
     "metadata": {},
     "output_type": "execute_result"
    }
   ],
   "source": [
    "# Define the model\n",
    "# Use no more than 2 Conv2D and 2 MaxPooling2D\n",
    "model = tf.keras.models.Sequential([\n",
    "    # Note the input shape is 28 x 28 grayscale.\n",
    "    tf.keras.layers.Conv2D(64, (3,3), activation='relu', input_shape=(28, 28, 1)),\n",
    "    tf.keras.layers.MaxPooling2D(2, 2),\n",
    "    tf.keras.layers.Conv2D(64, (3,3), activation='relu'),\n",
    "    tf.keras.layers.MaxPooling2D(2,2),\n",
    "    tf.keras.layers.Flatten(),\n",
    "    tf.keras.layers.Dense(128, activation='relu'),\n",
    "    tf.keras.layers.Dense(26, activation='softmax') # 26 hand-signs so 26 classes!\n",
    "])\n",
    "\n",
    "# Compile Model. \n",
    "model.compile(loss = 'sparse_categorical_crossentropy', optimizer='rmsprop', metrics=['accuracy'])\n",
    "\n",
    "# Train the Model\n",
    "history = model.fit_generator(train_datagen.flow(training_images, training_labels, batch_size=32),\n",
    "                              steps_per_epoch=len(training_images) / 32, # n images = batch_size * steps\n",
    "                              epochs=15,\n",
    "                              validation_data=validation_datagen.flow(testing_images, testing_labels, batch_size=32),\n",
    "                              validation_steps=len(testing_images) / 32)\n",
    "\n",
    "model.evaluate(testing_images, testing_labels, verbose=0)"
   ]
  },
  {
   "cell_type": "code",
   "execution_count": 20,
   "metadata": {
    "colab": {},
    "colab_type": "code",
    "id": "_Q3Zpr46dsij"
   },
   "outputs": [
    {
     "data": {
      "image/png": "[encoded data removed]",
      "text/plain": [
       "<Figure size 432x288 with 1 Axes>"
      ]
     },
     "metadata": {
      "needs_background": "light"
     },
     "output_type": "display_data"
    },
    {
     "data": {
      "image/png": "[encoded data removed]",
      "text/plain": [
       "<Figure size 432x288 with 1 Axes>"
      ]
     },
     "metadata": {
      "needs_background": "light"
     },
     "output_type": "display_data"
    }
   ],
   "source": [
    "# Plot the chart for accuracy and loss on both training and validation\n",
    "%matplotlib inline\n",
    "import matplotlib.pyplot as plt\n",
    "acc = history.history['accuracy']\n",
    "val_acc = history.history['val_accuracy']\n",
    "loss = history.history['loss']\n",
    "val_loss = history.history['val_loss']\n",
    "\n",
    "epochs = range(len(acc))\n",
    "\n",
    "plt.plot(epochs, acc, 'r', label='Training accuracy')\n",
    "plt.plot(epochs, val_acc, 'b', label='Validation accuracy')\n",
    "plt.title('Training and validation accuracy')\n",
    "plt.legend()\n",
    "plt.figure()\n",
    "\n",
    "plt.plot(epochs, loss, 'r', label='Training Loss')\n",
    "plt.plot(epochs, val_loss, 'b', label='Validation Loss')\n",
    "plt.title('Training and validation loss')\n",
    "plt.legend()\n",
    "\n",
    "plt.show()"
   ]
  },
  {
   "cell_type": "markdown",
   "metadata": {},
   "source": [
    "# Submission Instructions"
   ]
  },
  {
   "cell_type": "code",
   "execution_count": null,
   "metadata": {},
   "outputs": [],
   "source": [
    "# Now click the 'Submit Assignment' button above."
   ]
  },
  {
   "cell_type": "markdown",
   "metadata": {},
   "source": [
    "# When you're done or would like to take a break, please run the two cells below to save your work and close the Notebook. This will free up resources for your fellow learners. "
   ]
  },
  {
   "cell_type": "code",
   "execution_count": null,
   "metadata": {},
   "outputs": [],
   "source": [
    "%%javascript\n",
    "<!-- Save the notebook -->\n",
    "IPython.notebook.save_checkpoint();"
   ]
  },
  {
   "cell_type": "code",
   "execution_count": null,
   "metadata": {},
   "outputs": [],
   "source": [
    "%%javascript\n",
    "IPython.notebook.session.delete();\n",
    "window.onbeforeunload = null\n",
    "setTimeout(function() { window.close(); }, 1000);"
   ]
  }
 ],
 "metadata": {
  "colab": {
   "name": "Exercise 8 - Question.ipynb",
   "provenance": []
  },
  "coursera": {
   "course_slug": "convolutional-neural-networks-tensorflow",
   "graded_item_id": "8mIh8",
   "launcher_item_id": "gg95t"
  },
  "kernelspec": {
   "display_name": "Python 3",
   "language": "python",
   "name": "python3"
  },
  "language_info": {
   "codemirror_mode": {
    "name": "ipython",
    "version": 3
   },
   "file_extension": ".py",
   "mimetype": "text/x-python",
   "name": "python",
   "nbconvert_exporter": "python",
   "pygments_lexer": "ipython3",
   "version": "3.6.8"
  }
 },
 "nbformat": 4,
 "nbformat_minor": 1
}
